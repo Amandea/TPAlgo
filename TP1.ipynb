{
 "cells": [
  {
   "cell_type": "markdown",
   "id": "e4a77a40",
   "metadata": {
    "slideshow": {
     "slide_type": "-"
    }
   },
   "source": [
    "# Premiers pas avec le langage Python\n",
    "\n",
    "Pour commencer, nous utiliserons ce tutoriel : https://rgilliotte.gitbook.io/byte-of-python/\n",
    "\n",
    "Un autre livre à étudier est https://greenteapress.com/thinkpython2/thinkpython2.pdf"
   ]
  },
  {
   "cell_type": "markdown",
   "id": "7bc6fb0a",
   "metadata": {},
   "source": [
    "## Exercice 1 : Maximum de trois entiers"
   ]
  },
  {
   "cell_type": "markdown",
   "id": "7f4561e4",
   "metadata": {},
   "source": [
    "Décrire une fonction qui détermine le maximum de trois entiers distincts deux à deux. Il n'y a pas de \"selon\" en Python.  \n",
    "\n",
    "Maxtrois : fonction (a, b, c : entiers) $\\rightarrow$ entier {maximum de 3 nombres distincts deux à deux}"
   ]
  },
  {
   "cell_type": "code",
   "execution_count": 2,
   "id": "b30f1c58",
   "metadata": {},
   "outputs": [
    {
     "name": "stdout",
     "output_type": "stream",
     "text": [
      "4\n"
     ]
    },
    {
     "data": {
      "text/plain": [
       "-1"
      ]
     },
     "execution_count": 2,
     "metadata": {},
     "output_type": "execute_result"
    }
   ],
   "source": [
    "def max2 (x, y) :\n",
    "    if (x < y) :\n",
    "        return y\n",
    "    else :\n",
    "        return x\n",
    "\n",
    "def max3 (x, y, z) :\n",
    "    max_xy = max2(x,y)\n",
    "    return max2(max_xy,z)\n",
    "\n",
    "def max4 (x, y, z, t) :\n",
    "    max_xy = max2(x,y)\n",
    "    max_xyz = max2(max_xy, z)\n",
    "    max_xyzt = max2(max_xyz,t)\n",
    "    return max_xyzt\n",
    "\n",
    "max_xyzt = max4(1,2,3,4)\n",
    "print(max_xyzt)\n",
    "\n",
    "1 + 2 - max_xyzt"
   ]
  },
  {
   "cell_type": "markdown",
   "id": "88aa6c11",
   "metadata": {
    "slideshow": {
     "slide_type": "-"
    }
   },
   "source": [
    "## Exercice 2 : Moyenne olympique\n",
    "\n",
    "La moyenne olympique de $n$ nombres est la moyenne des $n-2$ nombres restant après avoir enlevé deux des nombres donnés, l’un ayant la valeur maximum et l’autre la valeur minimum. Décrire une fonction qui étant donnés quatre entiers positifs ou nuls, leur associe leur moyenne olympique. Par exemple, la moyenne olympique des quatre nombres 10, 8, 12, 24 est 11, celle des nombres 12, 12, 12, 12 est 12.  \n",
    "\n",
    "{spécification des fonctions}  \n",
    "mo : fonction (u, v, w, x : entiers $\\geq$ 0) $\\rightarrow$ réel $\\geq$ 0 {moyenne olympique de 4 nombres}  \n",
    "minquatre : fonction (i, j, k, l : entiers $\\geq$ 0) $\\rightarrow$ entier $\\geq$ 0 {minimum de 4 nombres}  \n",
    "maxquatre : fonction (i, j, k, l : entiers $\\geq$ 0) $\\rightarrow$ entier $\\geq$ 0 {maximum de 4 nombres}  \n",
    "maxdeux, mindeux : fonction (a,b : deux entiers $\\geq$ 0) $\\rightarrow$ entier $\\geq$ 0 {maximum et minimum de 2 nombres}"
   ]
  },
  {
   "cell_type": "markdown",
   "id": "c455ec5e",
   "metadata": {},
   "source": [
    "max(1,2,3)"
   ]
  },
  {
   "cell_type": "code",
   "execution_count": 3,
   "id": "9bc7eb7f",
   "metadata": {},
   "outputs": [
    {
     "name": "stdout",
     "output_type": "stream",
     "text": [
      "2.5\n"
     ]
    }
   ],
   "source": [
    "def min4 (x,y,z,t) -> int :\n",
    "    return min(x,y,z,t)\n",
    "\n",
    "def moy_olympique (a, b, c, d) -> int:\n",
    "    min_abcd = min4(a, b, c ,d)\n",
    "    max_abcd = max4(a, b, c, d)\n",
    "    return (a + b + c + d - min_abcd - max_xyzt) / 2\n",
    "\n",
    "\n",
    "a, b, c, d = 1, 2, 3, 4\n",
    "print(moy_olympique(a, b, c, d))"
   ]
  },
  {
   "cell_type": "markdown",
   "id": "4ec607e0",
   "metadata": {},
   "source": [
    "## Exercice 3 : Somme des chiffres d’un nombre"
   ]
  },
  {
   "cell_type": "markdown",
   "id": "08f5f8b7",
   "metadata": {},
   "source": [
    "Décrire une fonction qui à un entier compris entre 0 et 9999 associe la somme des chiffres qui le composent dans sa représentation en base 10. Exemple : donnée 9639, résultat : 27."
   ]
  },
  {
   "cell_type": "code",
   "execution_count": 4,
   "id": "f9470b10",
   "metadata": {},
   "outputs": [
    {
     "data": {
      "text/plain": [
       "18"
      ]
     },
     "execution_count": 4,
     "metadata": {},
     "output_type": "execute_result"
    }
   ],
   "source": [
    "def somme (x) :\n",
    "    a = x // 1000\n",
    "    b = (x%1000) // 100\n",
    "    c = (x%100) // 10\n",
    "    d = x%10\n",
    "\n",
    "    return a + b + c + d\n",
    "\n",
    "a= 639\n",
    "somme(a)"
   ]
  },
  {
   "cell_type": "markdown",
   "id": "e39bde37",
   "metadata": {},
   "source": [
    "Les chiffres formant l’entier donné peuvent être déterminés à l’aide de divisions par 10. On introduit une fonction qui à deux nombres associe le quotient et le reste de leur division :"
   ]
  },
  {
   "cell_type": "markdown",
   "id": "33233a29",
   "metadata": {},
   "source": [
    "## Exercice 4 : signe du produit"
   ]
  },
  {
   "cell_type": "markdown",
   "id": "b1b59754",
   "metadata": {},
   "source": [
    "On donne ci-dessous un algorithme qui lit au clavier deux entiers $x$ et $y$ et qui affiche à l'écran un message indiquant le signe du produit $x \\times y$ sans calculer ce produit."
   ]
  },
  {
   "cell_type": "markdown",
   "id": "86b4c1f1",
   "metadata": {},
   "source": [
    "**Signe du produit :**  \n",
    "x, y : entiers  \n",
    "    \n",
    "lire(x) ; lire(y)  \n",
    "si (((x > 0) et (y > 0)) ou ((x < 0) et (y < 0)))  \n",
    "&nbsp;&nbsp;&nbsp;&nbsp;alors ecrire (”le produit de” & LeTexteE(x) & ”et” & LeTexteE(y) & ”est strictement positif”) sinon si ((x = 0) ou (y  = 0))  \n",
    "&nbsp;&nbsp;&nbsp;&nbsp;alors ecrire (”le produit de” & LeTexteE(x) & ”et” & LeTexteE(y) & ”est nul”)  \n",
    "&nbsp;&nbsp;&nbsp;&nbsp;sinon ecrire (”le produit de” & LeTexteE(x) & ”et” & LeTexteE(y) & ”est strictement négatif”)"
   ]
  },
  {
   "cell_type": "markdown",
   "id": "881f9c99",
   "metadata": {},
   "source": [
    "## Exercice 5 - classement de trois valeurs"
   ]
  },
  {
   "cell_type": "markdown",
   "id": "959bb0b4",
   "metadata": {},
   "source": [
    "On souhaite écrire un programme qui lit trois entiers au clavier et les affiche à l'écran en ordre croissant (du plus petit au plus grand)."
   ]
  },
  {
   "cell_type": "code",
   "execution_count": 26,
   "id": "01a8ed51",
   "metadata": {},
   "outputs": [
    {
     "name": "stdout",
     "output_type": "stream",
     "text": [
      "<class 'int'>\n",
      "[10, 1, 3]\n",
      "[1, 3, 10]\n"
     ]
    }
   ],
   "source": [
    "var1 = int(input())\n",
    "var2 = int(input())\n",
    "var3 = int(input())\n",
    "\n",
    "print(type(var1))\n",
    "\n",
    "VAR = [var1, var2, var3]\n",
    "\n",
    "def sort (x : list) -> list : # Fonction qui trie en ordre croissant une liste \n",
    "    x.sort()\n",
    "    return x\n",
    "\n",
    "print(VAR)\n",
    "VAR_SORT = sort(VAR)\n",
    "print(VAR_SORT)"
   ]
  },
  {
   "cell_type": "markdown",
   "id": "a455bdfa",
   "metadata": {},
   "source": [
    "## Exercice 6 - Puissance"
   ]
  },
  {
   "cell_type": "markdown",
   "id": "42e1b8fd",
   "metadata": {},
   "source": [
    "On donne ci-dessous un algorithme qui lit au clavier deux entiers (positifs) x et y et affiche la valeur de $x^y$ :"
   ]
  },
  {
   "cell_type": "markdown",
   "id": "4b831616",
   "metadata": {},
   "source": [
    "**Puissance :**  \n",
    "x, y : entiers  \n",
    "p : un entier $\\geq$ 0 {valeur courante de $x^y$}  \n",
    "\n",
    "lire(x) ; lire(y)  \n",
    "p $\\leftarrow$ 1  \n",
    "i parcourant [1..y]  \n",
    "&nbsp;&nbsp;&nbsp;&nbsp;p $\\leftarrow$ p * x  \n",
    "ecrire(p)"
   ]
  },
  {
   "cell_type": "code",
   "execution_count": 77,
   "id": "df4018c5",
   "metadata": {},
   "outputs": [
    {
     "data": {
      "text/plain": [
       "16"
      ]
     },
     "execution_count": 77,
     "metadata": {},
     "output_type": "execute_result"
    }
   ],
   "source": [
    "def pui (x : float, y : float):\n",
    "    x_puiss_y =  x**y\n",
    "    return x_puiss_y\n",
    "\n",
    "def puiss (x:int, y:int):\n",
    "    resultat = 1\n",
    "    for i in range(y) :\n",
    "        resultat = resultat*x\n",
    "    \n",
    "    return resultat\n",
    "\n",
    "puiss(2,4)"
   ]
  },
  {
   "cell_type": "markdown",
   "id": "6d02baf2",
   "metadata": {},
   "source": [
    "## Exercice 7 - Factorielle"
   ]
  },
  {
   "cell_type": "markdown",
   "id": "2345306a",
   "metadata": {},
   "source": [
    "Ecrivez dans un fichier factorielle.py un programme pynthon qui lit un entier positif x au clavier et affiche la valeur de $!x$."
   ]
  },
  {
   "cell_type": "code",
   "execution_count": 55,
   "id": "4e355bb0-7565-400b-8c33-b7209a82d774",
   "metadata": {},
   "outputs": [
    {
     "name": "stdout",
     "output_type": "stream",
     "text": [
      "6\n"
     ]
    }
   ],
   "source": [
    "def factorielle (n : int) :\n",
    "    resultat = 1\n",
    "    for i in range(1,n):\n",
    "        resultat = resultat*i\n",
    "    \n",
    "    return resultat\n",
    "\n",
    "def newfact (n : int):\n",
    "    resultat = 1\n",
    "    for i in range(1,n+1):\n",
    "        resultat2 = i * resultat\n",
    "        resultat = resultat2\n",
    "\n",
    "    return resultat\n",
    "\n",
    "def factorielle1 (n : int) :\n",
    "    res = 1\n",
    "    while(n>0):\n",
    "        res *= n\n",
    "        n = n - 1\n",
    "    \n",
    "    return res \n",
    "\n",
    "def factorielle_rec (n : int) :\n",
    "    if n == 1 :\n",
    "        return n\n",
    "    else :\n",
    "        return n*factorielle(n-1)"
   ]
  }
 ],
 "metadata": {
  "celltoolbar": "Aucun(e)",
  "kernelspec": {
   "display_name": "Python 3 (ipykernel)",
   "language": "python",
   "name": "python3"
  },
  "language_info": {
   "codemirror_mode": {
    "name": "ipython",
    "version": 3
   },
   "file_extension": ".py",
   "mimetype": "text/x-python",
   "name": "python",
   "nbconvert_exporter": "python",
   "pygments_lexer": "ipython3",
   "version": "3.9.6"
  },
  "latex_envs": {
   "LaTeX_envs_menu_present": true,
   "autoclose": false,
   "autocomplete": true,
   "bibliofile": "biblio.bib",
   "cite_by": "apalike",
   "current_citInitial": 1,
   "eqLabelWithNumbers": true,
   "eqNumInitial": 1,
   "hotkeys": {
    "equation": "Ctrl-E",
    "itemize": "Ctrl-I"
   },
   "labels_anchors": false,
   "latex_user_defs": false,
   "report_style_numbering": false,
   "user_envs_cfg": false
  },
  "vscode": {
   "interpreter": {
    "hash": "aee8b7b246df8f9039afb4144a1f6fd8d2ca17a180786b69acc140d282b71a49"
   }
  }
 },
 "nbformat": 4,
 "nbformat_minor": 5
}
